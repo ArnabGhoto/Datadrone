{
 "cells": [
  {
   "cell_type": "code",
   "execution_count": 1,
   "id": "62c6c69e",
   "metadata": {},
   "outputs": [
    {
     "name": "stdout",
     "output_type": "stream",
     "text": [
      "Destroy the drone\n"
     ]
    }
   ],
   "source": [
    "print(\"Destroy the drone\")"
   ]
  },
  {
   "cell_type": "code",
   "execution_count": 2,
   "id": "71e790a4",
   "metadata": {},
   "outputs": [
    {
     "name": "stdout",
     "output_type": "stream",
     "text": [
      "shut down the computers\n"
     ]
    }
   ],
   "source": [
    "print(\"shut down the computers\")"
   ]
  },
  {
   "cell_type": "code",
   "execution_count": 3,
   "id": "dbfeb44f",
   "metadata": {},
   "outputs": [
    {
     "name": "stdout",
     "output_type": "stream",
     "text": [
      "start the computers again\n"
     ]
    }
   ],
   "source": [
    "print(\"start the computers again\")"
   ]
  }
 ],
 "metadata": {
  "kernelspec": {
   "display_name": "Python 3 (ipykernel)",
   "language": "python",
   "name": "python3"
  },
  "language_info": {
   "codemirror_mode": {
    "name": "ipython",
    "version": 3
   },
   "file_extension": ".py",
   "mimetype": "text/x-python",
   "name": "python",
   "nbconvert_exporter": "python",
   "pygments_lexer": "ipython3",
   "version": "3.11.4"
  }
 },
 "nbformat": 4,
 "nbformat_minor": 5
}
